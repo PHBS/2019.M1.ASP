{
 "cells": [
  {
   "cell_type": "markdown",
   "metadata": {},
   "source": [
    "# Basket option implementation based on normal model"
   ]
  },
  {
   "cell_type": "code",
   "execution_count": 56,
   "metadata": {},
   "outputs": [
    {
     "name": "stdout",
     "output_type": "stream",
     "text": [
      "The autoreload extension is already loaded. To reload it, use:\n",
      "  %reload_ext autoreload\n"
     ]
    }
   ],
   "source": [
    "%load_ext autoreload\n",
    "%autoreload 2"
   ]
  },
  {
   "cell_type": "code",
   "execution_count": 57,
   "metadata": {},
   "outputs": [],
   "source": [
    "import numpy as np\n",
    "#import option_models as opt\n",
    "from option_models import basket\n",
    "from option_models import bsm\n",
    "from option_models import normal"
   ]
  },
  {
   "cell_type": "code",
   "execution_count": null,
   "metadata": {},
   "outputs": [],
   "source": []
  },
  {
   "cell_type": "code",
   "execution_count": 58,
   "metadata": {},
   "outputs": [],
   "source": [
    "# A trivial test case 1: \n",
    "# one asset have 100% weight (the others zero)\n",
    "# the case should be equivalent to the BSM or Normal model price\n",
    "\n",
    "spot = np.ones(4) * 100\n",
    "vol = np.ones(4) * 0.4\n",
    "weights = np.array([0, 1, 0, 0])\n",
    "divr = np.zeros(4)\n",
    "intr = 0\n",
    "cor_m = 0.5*np.identity(4) + 0.5\n",
    "texp = 5\n",
    "strike = 120"
   ]
  },
  {
   "cell_type": "code",
   "execution_count": 59,
   "metadata": {},
   "outputs": [
    {
     "data": {
      "text/plain": [
       "array([[1. , 0.5, 0.5, 0.5],\n",
       "       [0.5, 1. , 0.5, 0.5],\n",
       "       [0.5, 0.5, 1. , 0.5],\n",
       "       [0.5, 0.5, 0.5, 1. ]])"
      ]
     },
     "execution_count": 59,
     "metadata": {},
     "output_type": "execute_result"
    }
   ],
   "source": [
    "cor_m"
   ]
  },
  {
   "cell_type": "code",
   "execution_count": 60,
   "metadata": {},
   "outputs": [
    {
     "name": "stdout",
     "output_type": "stream",
     "text": [
      "[0 1 0 0]\n",
      "26.92956987643586\n"
     ]
    }
   ],
   "source": [
    "print(weights)\n",
    "\n",
    "np.random.seed(123456)\n",
    "price_basket = basket.basket_price_mc(strike, spot, vol*spot, weights, texp, cor_m, bsm=False)\n",
    "print(price_basket)"
   ]
  },
  {
   "cell_type": "code",
   "execution_count": 61,
   "metadata": {},
   "outputs": [
    {
     "name": "stdout",
     "output_type": "stream",
     "text": [
      "26.92956987643586 26.570845957870503\n"
     ]
    }
   ],
   "source": [
    "# Compare the price to normal model formula\n",
    "\n",
    "norm1 = normal.NormalModel(vol=40, intr=0, divr = 0)\n",
    "price_norm = norm1.price(strike=120, spot=100, texp=texp, cp=1)\n",
    "print(price_basket, price_norm)"
   ]
  },
  {
   "cell_type": "code",
   "execution_count": 62,
   "metadata": {},
   "outputs": [
    {
     "name": "stdout",
     "output_type": "stream",
     "text": [
      "[[1.     0.9999 0.9999 0.9999]\n",
      " [0.9999 1.     0.9999 0.9999]\n",
      " [0.9999 0.9999 1.     0.9999]\n",
      " [0.9999 0.9999 0.9999 1.    ]]\n",
      "26.761395615904505 26.570845957870503\n"
     ]
    }
   ],
   "source": [
    "# A trivial test case 2\n",
    "# all assets almost perfectly correlated:\n",
    "# the case should be equivalent to the BSM or Normal model price\n",
    "\n",
    "spot = np.ones(4) * 100\n",
    "vol = np.ones(4) * 0.4\n",
    "weights = np.ones(4) * 0.25\n",
    "divr = np.zeros(4)\n",
    "intr = 0\n",
    "cor_m = 0.0001*np.identity(4) + 0.9999*np.ones((4,4))\n",
    "texp = 5\n",
    "strike = 120\n",
    "\n",
    "print( cor_m )\n",
    "\n",
    "np.random.seed(123456)\n",
    "price_basket = basket.basket_price_mc(strike, spot, vol*spot, weights, texp, cor_m, bsm=False)\n",
    "print(price_basket, price_norm)"
   ]
  },
  {
   "cell_type": "code",
   "execution_count": 63,
   "metadata": {},
   "outputs": [],
   "source": [
    "# A full test set for basket option with exact price\n",
    "\n",
    "spot = np.ones(4) * 100\n",
    "vol = np.ones(4) * 0.4\n",
    "weights = np.ones(4) * 0.25\n",
    "divr = np.zeros(4)\n",
    "intr = 0\n",
    "cor_m = 0.5*np.identity(4) + 0.5\n",
    "texp = 5\n",
    "strike = 100\n",
    "price_exact = 28.0073695"
   ]
  },
  {
   "cell_type": "code",
   "execution_count": 64,
   "metadata": {},
   "outputs": [
    {
     "data": {
      "text/plain": [
       "array([[1. , 0.5, 0.5, 0.5],\n",
       "       [0.5, 1. , 0.5, 0.5],\n",
       "       [0.5, 0.5, 1. , 0.5],\n",
       "       [0.5, 0.5, 0.5, 1. ]])"
      ]
     },
     "execution_count": 64,
     "metadata": {},
     "output_type": "execute_result"
    }
   ],
   "source": [
    "cor_m"
   ]
  },
  {
   "cell_type": "code",
   "execution_count": 65,
   "metadata": {},
   "outputs": [
    {
     "name": "stdout",
     "output_type": "stream",
     "text": [
      "28.168716545630815 28.0073695\n"
     ]
    }
   ],
   "source": [
    "price_basket = basket.basket_price_mc(strike, spot, vol*spot, weights, texp, cor_m, bsm=False)\n",
    "print(price_basket, price_exact)"
   ]
  },
  {
   "cell_type": "markdown",
   "metadata": {},
   "source": [
    "# [To Do] Basket option implementation based on BSM model\n",
    "## Write the similar test for BSM"
   ]
  },
  {
   "cell_type": "code",
   "execution_count": 66,
   "metadata": {},
   "outputs": [
    {
     "name": "stdout",
     "output_type": "stream",
     "text": [
      "28.27745472325051\n"
     ]
    }
   ],
   "source": [
    "price_basket = basket.basket_price_mc(strike, spot, vol, weights, texp, cor_m, bsm=True)\n",
    "print(price_basket)"
   ]
  },
  {
   "cell_type": "code",
   "execution_count": 67,
   "metadata": {},
   "outputs": [
    {
     "name": "stdout",
     "output_type": "stream",
     "text": [
      "[1 0 0 0]\n",
      "28.751631082489702\n",
      "1.8935501738856734e-112\n"
     ]
    }
   ],
   "source": [
    "# A trivial test case 1: \n",
    "# one asset have 100% weight (the others zero)\n",
    "# the case should be equivalent to the BSM or Normal model price\n",
    "\n",
    "spot = np.ones(4) * 100\n",
    "vol = np.ones(4) * 0.4\n",
    "weights = np.array([1, 0, 0, 0])\n",
    "divr = np.zeros(4)\n",
    "intr = 0\n",
    "cor_m = 0.5*np.identity(4) + 0.5\n",
    "texp = 5\n",
    "strike = 120\n",
    "\n",
    "print(weights)\n",
    "\n",
    "np.random.seed(123456)\n",
    "price_basket = basket.basket_price_mc(strike, spot, vol, weights, texp, cor_m, bsm=True)\n",
    "print(price_basket)\n",
    "print(normal.normal_formula(strike=120, spot=100, vol=0.4, texp=5))"
   ]
  },
  {
   "cell_type": "markdown",
   "metadata": {},
   "source": [
    "# Spread option implementation based on normal model"
   ]
  },
  {
   "cell_type": "code",
   "execution_count": 68,
   "metadata": {},
   "outputs": [],
   "source": [
    "# A full test set for spread option\n",
    "\n",
    "spot = np.array([100, 96])\n",
    "vol = np.array([0.2, 0.1])\n",
    "weights = np.array([1, -1])\n",
    "divr = np.array([1, 1])*0.05\n",
    "intr = 0.1\n",
    "cor_m = np.array([[1, 0.5], [0.5, 1]])\n",
    "texp = 1\n",
    "strike = 0\n",
    "price_exact = 8.5132252"
   ]
  },
  {
   "cell_type": "code",
   "execution_count": 69,
   "metadata": {},
   "outputs": [
    {
     "name": "stdout",
     "output_type": "stream",
     "text": [
      "8.348852807225292 8.5132252\n"
     ]
    }
   ],
   "source": [
    "# MC price based on normal model\n",
    "# make sure that the prices are similar\n",
    "\n",
    "np.random.seed(123456)\n",
    "price_spread = basket.basket_price_mc(strike, spot, vol*spot, weights, texp, cor_m, intr=intr, divr=divr, bsm=False)\n",
    "print(price_spread, price_exact)"
   ]
  },
  {
   "cell_type": "markdown",
   "metadata": {},
   "source": [
    "# Spread option implementation based on BSM model"
   ]
  },
  {
   "cell_type": "code",
   "execution_count": 70,
   "metadata": {
    "scrolled": true
   },
   "outputs": [],
   "source": [
    "# Once the implementation is finished the BSM model price should also work\n",
    "np.random.seed(123456)\n",
    "price_spread = basket.basket_price_mc(\n",
    "    strike, spot, vol, weights, texp, cor_m, intr=intr, divr=divr, bsm=True)"
   ]
  },
  {
   "cell_type": "code",
   "execution_count": 71,
   "metadata": {},
   "outputs": [
    {
     "data": {
      "text/plain": [
       "8.525394174202468"
      ]
     },
     "execution_count": 71,
     "metadata": {},
     "output_type": "execute_result"
    }
   ],
   "source": [
    "price_spread"
   ]
  },
  {
   "cell_type": "code",
   "execution_count": 72,
   "metadata": {},
   "outputs": [
    {
     "name": "stdout",
     "output_type": "stream",
     "text": [
      "8.5132252295455 8.525394174202468\n"
     ]
    }
   ],
   "source": [
    "# You also test Kirk's approximation\n",
    "price_kirk = basket.spread_price_kirk(strike, spot, vol, texp, 0.5, intr, divr)\n",
    "print(price_kirk, price_spread)"
   ]
  },
  {
   "cell_type": "markdown",
   "metadata": {},
   "source": [
    "# [To Do] Complete the implementation of basket_price_norm_analytic\n",
    "# Compare the MC stdev of BSM basket prices from with and without CV"
   ]
  },
  {
   "cell_type": "code",
   "execution_count": 73,
   "metadata": {},
   "outputs": [],
   "source": [
    "# The basket option example from above\n",
    "spot = np.ones(4) * 100\n",
    "vol = np.ones(4) * 0.4\n",
    "weights = np.array([1, 1, 1, 1])/4\n",
    "divr = np.zeros(4)\n",
    "intr = 0\n",
    "cor_m = 0.5*np.identity(4) + 0.5\n",
    "texp = 5\n",
    "strike = 120\n",
    "cp = 1\n",
    "n_samples = 10000"
   ]
  },
  {
   "cell_type": "code",
   "execution_count": 74,
   "metadata": {},
   "outputs": [
    {
     "name": "stdout",
     "output_type": "stream",
     "text": [
      "21.010383316187788\n"
     ]
    }
   ],
   "source": [
    "price1 = basket.basket_price_mc(\n",
    "        strike, spot, vol, weights, texp, cor_m,\n",
    "        intr, divr, cp, True, n_samples)\n",
    "print(price1)"
   ]
  },
  {
   "cell_type": "code",
   "execution_count": 75,
   "metadata": {},
   "outputs": [
    {
     "name": "stdout",
     "output_type": "stream",
     "text": [
      "19.3338717194432\n"
     ]
    }
   ],
   "source": [
    "price2 = basket.basket_price_mc(\n",
    "        strike, spot, spot*vol, weights, texp, cor_m,\n",
    "        intr, divr, 1, False, 10000)\n",
    "print(price2)"
   ]
  },
  {
   "cell_type": "code",
   "execution_count": 76,
   "metadata": {},
   "outputs": [
    {
     "name": "stdout",
     "output_type": "stream",
     "text": [
      "[19.33039557 19.33039557 19.33039557 19.33039557]\n"
     ]
    }
   ],
   "source": [
    "### Make sure that the analytic normal price is correctly implemented\n",
    "price3 = basket.basket_price_norm_analytic(strike, spot, vol*spot, weights, texp, cor_m, intr=intr, divr=divr)\n",
    "print(price3)"
   ]
  },
  {
   "cell_type": "code",
   "execution_count": 77,
   "metadata": {},
   "outputs": [
    {
     "name": "stdout",
     "output_type": "stream",
     "text": [
      "[22.67017605 22.49790555]\n"
     ]
    }
   ],
   "source": [
    "# Run below about 100 times and get the mean and stdev\n",
    "\n",
    "### Returns 2 prices, without CV and with CV \n",
    "price_basket = basket.basket_price_mc_cv(strike, spot, vol, weights, texp, cor_m)\n",
    "print(price_basket)"
   ]
  },
  {
   "cell_type": "code",
   "execution_count": 78,
   "metadata": {},
   "outputs": [
    {
     "name": "stdout",
     "output_type": "stream",
     "text": [
      "Mean of BasketPrices without CV is 21.698581  \n",
      "  S.E. of BasketPrices without CV is 0.637213\n",
      "\n",
      "\n",
      "Mean of BasketPrices with CV is 21.740592  \n",
      "  S.E. of BasketPrices with CV is 0.370115\n"
     ]
    }
   ],
   "source": [
    "prices_cv = []\n",
    "prices_no_cv = []\n",
    "for i in range(100):\n",
    "    temp = basket.basket_price_mc_cv(strike, spot, vol, weights, texp, cor_m)\n",
    "    prices_no_cv.append(temp[0])\n",
    "    prices_cv.append(temp[1])\n",
    "prices_cv_std = np.std(prices_cv, ddof = 1)\n",
    "prices_cv_mean = np.mean(prices_cv)\n",
    "prices_no_cv_std = np.std(prices_no_cv, ddof = 1)\n",
    "prices_no_cv_mean = np.mean(prices_no_cv)\n",
    "print('Mean of BasketPrices without CV is %f '% prices_no_cv_mean,'\\n' ,' S.E. of BasketPrices without CV is %f' % prices_no_cv_std)\n",
    "print('\\n')\n",
    "print('Mean of BasketPrices with CV is %f '% prices_cv_mean,'\\n' ,' S.E. of BasketPrices with CV is %f' % prices_cv_std)"
   ]
  },
  {
   "cell_type": "code",
   "execution_count": null,
   "metadata": {},
   "outputs": [],
   "source": []
  }
 ],
 "metadata": {
  "anaconda-cloud": {},
  "kernelspec": {
   "display_name": "Python 3",
   "language": "python",
   "name": "python3"
  },
  "language_info": {
   "codemirror_mode": {
    "name": "ipython",
    "version": 3
   },
   "file_extension": ".py",
   "mimetype": "text/x-python",
   "name": "python",
   "nbconvert_exporter": "python",
   "pygments_lexer": "ipython3",
   "version": "3.8.5"
  }
 },
 "nbformat": 4,
 "nbformat_minor": 1
}
